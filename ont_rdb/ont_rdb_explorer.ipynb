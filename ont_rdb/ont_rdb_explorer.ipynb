{
 "cells": [
  {
   "cell_type": "markdown",
   "metadata": {},
   "source": [
    "# ont_rdb_explorer"
   ]
  },
  {
   "cell_type": "markdown",
   "metadata": {},
   "source": [
    "## Import packages\n",
    "Also set the path to ont_rdb and the name of your snakemake profile for processing purposes."
   ]
  },
  {
   "cell_type": "code",
   "execution_count": 12,
   "metadata": {},
   "outputs": [],
   "source": [
    "import informant_class\n",
    "\n",
    "# Adjust this to the directory storing the ont_rdb package.\n",
    "ont_rdb_path = \"/home/cfrankston/Projects/ont_rdb/ont_rdb\"\n",
    "\n",
    "# Set the snakemake profile you wish to use:\n",
    "snakemake_profile = 'mamba'\n",
    "\n",
    "from IPython.display import display, clear_output\n",
    "import ipywidgets as widgets\n",
    "import os\n",
    "import importlib\n",
    "import sys"
   ]
  },
  {
   "cell_type": "markdown",
   "metadata": {},
   "source": [
    "## Select and import ontology module from drop-down menu.\n"
   ]
  },
  {
   "cell_type": "code",
   "execution_count": 13,
   "metadata": {},
   "outputs": [
    {
     "data": {
      "application/vnd.jupyter.widget-view+json": {
       "model_id": "a8ebeeef2f224526b95798d3d5f9e3db",
       "version_major": 2,
       "version_minor": 0
      },
      "text/plain": [
       "Dropdown(description='Files:', options=('hic_January_24_2024_ontology.py',), value='hic_January_24_2024_ontolo…"
      ]
     },
     "metadata": {},
     "output_type": "display_data"
    },
    {
     "data": {
      "application/vnd.jupyter.widget-view+json": {
       "model_id": "f2b1eb022e534a77b38a00365c2e6738",
       "version_major": 2,
       "version_minor": 0
      },
      "text/plain": [
       "Button(description='Import Selected Ontology Module', layout=Layout(width='auto'), style=ButtonStyle())"
      ]
     },
     "metadata": {},
     "output_type": "display_data"
    },
    {
     "data": {
      "application/vnd.jupyter.widget-view+json": {
       "model_id": "2999da6ce7c047028c55ca1333fd3537",
       "version_major": 2,
       "version_minor": 0
      },
      "text/plain": [
       "Output()"
      ]
     },
     "metadata": {},
     "output_type": "display_data"
    }
   ],
   "source": [
    "\n",
    "selected_module_name = None\n",
    "imported_module = None\n",
    "\n",
    "def list_files_in_folder(folder_path):\n",
    "    \"\"\"Lists files in the given folder path.\"\"\"\n",
    "    files = [f for f in os.listdir(folder_path) if (os.path.isfile(os.path.join(folder_path, f)) and f.endswith(\"_ontology.py\"))]\n",
    "    return files\n",
    "\n",
    "ontologies_folder = ont_rdb_path + '/ontologies'\n",
    "file_list = list_files_in_folder(ontologies_folder)\n",
    "dropdown_menu = widgets.Dropdown(options=file_list, description='Files:', disabled=False)\n",
    "display(dropdown_menu)\n",
    "\n",
    "button = widgets.Button(description=\"Import Selected Ontology Module\", layout=widgets.Layout(width='auto'))\n",
    "display(button)\n",
    "\n",
    "output = widgets.Output()\n",
    "\n",
    "@button.on_click\n",
    "def button_on_click(b):\n",
    "    global selected_module_name\n",
    "    global imported_module\n",
    "    with output:\n",
    "        clear_output()\n",
    "        selected_file = dropdown_menu.value\n",
    "        module_name = selected_file[:-3]  # Remove the '.py' extension\n",
    "        import_path = f'ontologies.{module_name}'\n",
    "        \n",
    "        try:\n",
    "            # Dynamically import the selected module\n",
    "            imported_module = importlib.import_module(import_path)\n",
    "            # Optionally, add the imported module to sys.modules\n",
    "            sys.modules[module_name] = imported_module\n",
    "            print(f\"Successfully imported {module_name}.\")\n",
    "            selected_module_name = module_name\n",
    "        except Exception as e:\n",
    "            print(f\"Failed to import {module_name}: {e}.\")\n",
    "\n",
    "display(output)\n",
    "\n"
   ]
  },
  {
   "cell_type": "markdown",
   "metadata": {},
   "source": [
    "### Import informant classes from ontology module and construct or access its associated digraph dataframe.\n",
    "If necessary, modify the ``command`` to use appropriate snakemake configurations.\n",
    "\n",
    "For example:\n",
    "* ``use-conda: true``\n",
    "* ``conda-frontend: mamba``\n",
    "* ``cores: 1``"
   ]
  },
  {
   "cell_type": "code",
   "execution_count": 14,
   "metadata": {},
   "outputs": [
    {
     "name": "stdout",
     "output_type": "stream",
     "text": [
      "hic_January_24_2024_ontology dataframe is constructed. \n"
     ]
    }
   ],
   "source": [
    "import pandas as pd\n",
    "import subprocess\n",
    "import snakemake\n",
    "command = f\"snakemake --profile {snakemake_profile} ontology_dataframes/{selected_module_name}_dataframe.pkl\"\n",
    "result = subprocess.run(command, capture_output=True, text=True, shell=True)\n",
    "# Check if the command was successful\n",
    "if result.returncode == 0:\n",
    "    # Print the standard output of the command\n",
    "    print(f\"{selected_module_name} dataframe is constructed.\", result.stdout)\n",
    "else:\n",
    "    # Print the standard error if the command failed\n",
    "    print(\"Command failed with error:\", result.stderr)\n",
    "\n",
    "ontology_dataframe = pd.read_pickle(ont_rdb_path + '/ontology_dataframes/' + selected_module_name + '_dataframe.pkl')\n",
    "\n",
    "selected_module = importlib.import_module(selected_module_name)\n",
    "for name in dir(selected_module):\n",
    "    if not name.startswith('_'):  # Skip internal names\n",
    "        globals()[name] = getattr(selected_module, name)\n",
    "# ontology_dataframe"
   ]
  },
  {
   "cell_type": "markdown",
   "metadata": {},
   "source": [
    "## Explore your ontology and create your database.\n",
    "Construct and save informants and informant dataframes to organize  objects in the context of your ontology. "
   ]
  },
  {
   "cell_type": "code",
   "execution_count": 11,
   "metadata": {},
   "outputs": [
    {
     "data": {
      "text/html": [
       "<div>\n",
       "<style scoped>\n",
       "    .dataframe tbody tr th:only-of-type {\n",
       "        vertical-align: middle;\n",
       "    }\n",
       "\n",
       "    .dataframe tbody tr th {\n",
       "        vertical-align: top;\n",
       "    }\n",
       "\n",
       "    .dataframe thead th {\n",
       "        text-align: right;\n",
       "    }\n",
       "</style>\n",
       "<table border=\"1\" class=\"dataframe\">\n",
       "  <thead>\n",
       "    <tr style=\"text-align: right;\">\n",
       "      <th></th>\n",
       "      <th>name</th>\n",
       "      <th>informant</th>\n",
       "      <th>entry_time</th>\n",
       "      <th>verification_status</th>\n",
       "    </tr>\n",
       "  </thead>\n",
       "  <tbody>\n",
       "    <tr>\n",
       "      <th>0</th>\n",
       "      <td>ENCFF661SAZ.bedpe</td>\n",
       "      <td>&lt;ontologies.hic_January_24_2024_ontology.BedPe...</td>\n",
       "      <td>03_01_2024</td>\n",
       "      <td>pending</td>\n",
       "    </tr>\n",
       "  </tbody>\n",
       "</table>\n",
       "</div>"
      ],
      "text/plain": [
       "                name                                          informant  \\\n",
       "0  ENCFF661SAZ.bedpe  <ontologies.hic_January_24_2024_ontology.BedPe...   \n",
       "\n",
       "   entry_time verification_status  \n",
       "0  03_01_2024             pending  "
      ]
     },
     "execution_count": 11,
     "metadata": {},
     "output_type": "execute_result"
    }
   ],
   "source": [
    "my_informant_dataframe = informant_class.Informant_Dataframe()\n",
    "\n",
    "bedpe_inf = BedPe_File()\n",
    "bedpe_inf.__dict__\n",
    "bedpe_inf.__dict__.update({'name':\"ENCFF661SAZ.bedpe\",\n",
    "'description': 'Basic loops file from ENCODE.',\n",
    "'species': 'homo_sapiens',\n",
    "'location': \"/home/cfrankston/Projects/Auxiliaries/bedpe_tools/bedpe_data/ENCFF661SAZ.bedpe\",\n",
    "'genome_assembly_name': \"GRCh38\",\n",
    "'gz':False})\n",
    "\n",
    "bedpe_inf.__dict__\n",
    "\n",
    "my_informant_dataframe.append([bedpe_inf])\n",
    "my_informant_dataframe.df\n",
    "\n",
    "my_informant_dataframe.filter(\"(@genome_assembly_name == 'GRCh38') & (@gz == False)\")"
   ]
  }
 ],
 "metadata": {
  "kernelspec": {
   "display_name": "ont_rdb",
   "language": "python",
   "name": "python3"
  },
  "language_info": {
   "codemirror_mode": {
    "name": "ipython",
    "version": 3
   },
   "file_extension": ".py",
   "mimetype": "text/x-python",
   "name": "python",
   "nbconvert_exporter": "python",
   "pygments_lexer": "ipython3",
   "version": "3.12.2"
  }
 },
 "nbformat": 4,
 "nbformat_minor": 2
}
